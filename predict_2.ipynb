{
 "cells": [
  {
   "cell_type": "markdown",
   "id": "37c5efc5",
   "metadata": {},
   "source": [
    "# 1. Import Library & Read Dataset Image"
   ]
  },
  {
   "cell_type": "code",
   "execution_count": 5,
   "id": "071497a1",
   "metadata": {
    "scrolled": true
   },
   "outputs": [],
   "source": [
    "# Import library-library yang akan dibutuhkan pada eksperimen kali ini\n",
    "import pandas as pd\n",
    "import os\n",
    "import matplotlib.pyplot as plt\n",
    "plt.style.use(\"ggplot\")\n",
    "import numpy as np\n",
    "import seaborn as sns\n",
    "import tensorflow as tf\n",
    "from tensorflow import keras\n",
    "from PIL import Image\n",
    "from sklearn.model_selection import train_test_split\n",
    "import cv2\n",
    "from glob import glob\n",
    "from keras.optimizers import SGD, Adam\n",
    "from keras.layers import Dense, Dropout, Flatten\n",
    "from tensorflow.keras.models import Sequential"
   ]
  },
  {
   "cell_type": "markdown",
   "id": "6f76443f",
   "metadata": {},
   "source": [
    "## 3. Image Preprocessing"
   ]
  },
  {
   "cell_type": "markdown",
   "id": "d13d1e0a",
   "metadata": {},
   "source": [
    "### 3.1. Data Augmentation"
   ]
  },
  {
   "cell_type": "markdown",
   "id": "53d53ef4",
   "metadata": {},
   "source": [
    "Augmentasi data/augmentasi gambar merupakan teknik yang sering digunakan dalam eksperimen pengklasifikasian gambar untuk meningkatkan ukuran dari kumpulan data gambar. Cara kerja secara umum proses dari augmentasi gambar adalah mengambil sampel dari kumpulan data gambar, setelah itu data sampel tersebut dimodifikasi/diubah ukurannya/pencahayannya/mengubah piksel dari gambar, dll. Selesai dari memodifikasi data maka selanjutnya data yang telah dimodifikasi akan ditambahkan ke kumpulan data aslinya sehingga dataset gambar yang dimiliki akan lebih banyak dan bervariasi.\n",
    "\n",
    "Melakukan pemrosesan augmentasi data/augmentasi gambar dapat membantu atau bahkan menghindari permasalahan data yang kurang variasi/data yang tidak cukup, mencegah terjadinya overfitting, dan membuat algoritma dapat menghasilkan performa yang lebih baik.\n",
    "\n",
    "Referensi:\n",
    "\n",
    "- https://towardsdatascience.com/complete-guide-to-data-augmentation-for-computer-vision-1abe4063ad07"
   ]
  },
  {
   "cell_type": "code",
   "execution_count": 6,
   "metadata": {},
   "outputs": [],
   "source": [
    "# Memanggil semua data gambar dengan keempat kategori yang berbeda yang ada di dalam folder COVID-19_Radiography_Dataset\n",
    "root_dataset_dir = \"COVID-19_Radiography_Dataset/\"\n",
    "covid19_images_data = root_dataset_dir + \"COVID\"\n",
    "lung_opacity_images_data = root_dataset_dir + \"Lung_Opacity\"\n",
    "normal_images_data = root_dataset_dir + \"Normal\"\n",
    "pneumonia_images_data = root_dataset_dir + \"Viral Pneumonia\""
   ]
  },
  {
   "cell_type": "code",
   "execution_count": 7,
   "id": "d0e9db0d",
   "metadata": {
    "scrolled": false
   },
   "outputs": [
    {
     "name": "stdout",
     "output_type": "stream",
     "text": [
      "Found 7142 files belonging to 4 classes.\n",
      "Using 5714 files for training.\n"
     ]
    },
    {
     "name": "stderr",
     "output_type": "stream",
     "text": [
      "2022-11-04 15:27:01.008553: I tensorflow/stream_executor/cuda/cuda_gpu_executor.cc:975] successful NUMA node read from SysFS had negative value (-1), but there must be at least one NUMA node, so returning NUMA node zero\n",
      "2022-11-04 15:27:01.108048: I tensorflow/stream_executor/cuda/cuda_gpu_executor.cc:975] successful NUMA node read from SysFS had negative value (-1), but there must be at least one NUMA node, so returning NUMA node zero\n",
      "2022-11-04 15:27:01.108409: I tensorflow/stream_executor/cuda/cuda_gpu_executor.cc:975] successful NUMA node read from SysFS had negative value (-1), but there must be at least one NUMA node, so returning NUMA node zero\n",
      "2022-11-04 15:27:01.109222: I tensorflow/core/platform/cpu_feature_guard.cc:193] This TensorFlow binary is optimized with oneAPI Deep Neural Network Library (oneDNN) to use the following CPU instructions in performance-critical operations:  AVX2 AVX512F AVX512_VNNI FMA\n",
      "To enable them in other operations, rebuild TensorFlow with the appropriate compiler flags.\n",
      "2022-11-04 15:27:01.109888: I tensorflow/stream_executor/cuda/cuda_gpu_executor.cc:975] successful NUMA node read from SysFS had negative value (-1), but there must be at least one NUMA node, so returning NUMA node zero\n",
      "2022-11-04 15:27:01.110179: I tensorflow/stream_executor/cuda/cuda_gpu_executor.cc:975] successful NUMA node read from SysFS had negative value (-1), but there must be at least one NUMA node, so returning NUMA node zero\n",
      "2022-11-04 15:27:01.110391: I tensorflow/stream_executor/cuda/cuda_gpu_executor.cc:975] successful NUMA node read from SysFS had negative value (-1), but there must be at least one NUMA node, so returning NUMA node zero\n",
      "2022-11-04 15:27:02.080208: I tensorflow/stream_executor/cuda/cuda_gpu_executor.cc:975] successful NUMA node read from SysFS had negative value (-1), but there must be at least one NUMA node, so returning NUMA node zero\n",
      "2022-11-04 15:27:02.080899: I tensorflow/stream_executor/cuda/cuda_gpu_executor.cc:975] successful NUMA node read from SysFS had negative value (-1), but there must be at least one NUMA node, so returning NUMA node zero\n",
      "2022-11-04 15:27:02.081385: I tensorflow/stream_executor/cuda/cuda_gpu_executor.cc:975] successful NUMA node read from SysFS had negative value (-1), but there must be at least one NUMA node, so returning NUMA node zero\n",
      "2022-11-04 15:27:02.081689: I tensorflow/core/common_runtime/gpu/gpu_process_state.cc:222] Using CUDA malloc Async allocator for GPU: 0\n",
      "2022-11-04 15:27:02.081975: I tensorflow/core/common_runtime/gpu/gpu_device.cc:1532] Created device /job:localhost/replica:0/task:0/device:GPU:0 with 179 MB memory:  -> device: 0, name: NVIDIA GeForce RTX 3050 Laptop GPU, pci bus id: 0000:01:00.0, compute capability: 8.6\n"
     ]
    },
    {
     "name": "stdout",
     "output_type": "stream",
     "text": [
      "\n",
      "Found 7142 files belonging to 4 classes.\n",
      "Using 1428 files for validation.\n"
     ]
    }
   ],
   "source": [
    "\"\"\"\n",
    "Membuat generator untuk membagi data menjadi 2 bagian: training dan testing (validation) yang berisikan\n",
    "kumpulan gambar dari sub-direktori/sub-folder dari main folder. Pada eksperimen kali ini\n",
    "main foldernya adalah COVID-19_Radiography_Dataset sedangkan sub-foldernya terdiri dari keempat label/kategori\n",
    "gambar yang ada di dalam folder COVID-19_Radiography_Dataset diantaranya COVID, Lung Opacity, Normal, dan Viral Pneumonia\n",
    "\"\"\"\n",
    "training_generator = tf.keras.preprocessing.image_dataset_from_directory(root_dataset_dir,\n",
    "                                                                         image_size=(100, 100),\n",
    "                                                                         subset=\"training\",\n",
    "                                                                         shuffle=True,\n",
    "                                                                         label_mode=\"int\",\n",
    "                                                                         class_names=None,\n",
    "                                                                         color_mode=\"rgb\",\n",
    "                                                                         validation_split=0.2,\n",
    "                                                                         labels=\"inferred\",\n",
    "                                                                         seed=12,\n",
    "                                                                         batch_size=16)\n",
    "\n",
    "print()\n",
    "\n",
    "testing_generator = tf.keras.preprocessing.image_dataset_from_directory(root_dataset_dir,\n",
    "                                                                        image_size=(100, 100),\n",
    "                                                                        subset=\"validation\",\n",
    "                                                                        shuffle=True,\n",
    "                                                                        label_mode=\"int\",\n",
    "                                                                        class_names=None,\n",
    "                                                                        color_mode=\"rgb\",\n",
    "                                                                        validation_split=0.2,\n",
    "                                                                        labels=\"inferred\",\n",
    "                                                                        seed=12,\n",
    "                                                                        batch_size=16)"
   ]
  },
  {
   "cell_type": "markdown",
   "id": "dd16f3b4",
   "metadata": {},
   "source": [
    "Berdasarkan dari script diatas terdapat beberapa fungsi dalam melakukan generate data gambar yang dilakukan pada eksperimen kali ini dan berikut adalah penjelasan dari fungsi-fungsi diatas:\n",
    "\n",
    "1. image_dataset_from_directory berfungsi untuk memanggil/menghasilkan file data gambar dalam direktori folder utama yang menghasilkan kumpulan gambar dari sub-direktori atau direktori kelas yang merupakan nama sub-direktori. Untuk kasus pada eksperimen kali ini direktori folder utamanya adalah COVID-19_Radiography_Dataset dan sub-direktori/folder turunan dari folder utama adalah nama kelas/nama kategori yaitu covid-19, lung opacity, normal dan pneumonia.\n",
    "2. image_size bertujuan untuk mengubah (resize) piksel gambar yang terdiri dari lebar gambar (width) dan tinggi gambar (height) yang akan digunakan pada eksperimen kali ini.\n",
    "3. subset merupakan label/identitas dari gambar yang terdiri dari \"training\" dan \"validation\". Subset digunakan ketika nilai dari validation_split digunakan juga.\n",
    "4. validation_split bertujuan untuk membagi jumlah data dalam proses augmentasi gambar. Pada eksperimen kali ini nilai dari validasinya adalah 0.2 atau 20%. Berarti 20% untuk memvalidasi/menguji data sedangkan 80% untuk melatih data dengan algoritma deep learning.\n",
    "5. label_mode bertujuan untuk menjelaskan dari proses pengkodean dari suatu label gambar. Opsi yang digunakan pada eksperimen ini adalah int yang itu berarti label akan dikodekan sebagai bilangan bulat untuk nilai loss yaitu sparse_categorical_crossentrophy.\n",
    "6. labels=\"inferred\" merupakan label yang dihasilkan dari sub-direktori folder atau folder turunan dari folder utama atau daftar/tupel label bilangan bulat dengan ukuran yang sama dengan jumlah gambar dalam label direktori. Dalam hal ini sub-direktorinya adalah covid-19, lung opacity, normal, dan pneumonia.\n",
    "7. shuffle bertujuan untuk mengacak data gambar yang ada di dalam sub-direktori pada masing-masing kelas gambar.\n",
    "8. batch_size merupakan ukuran dari kumpulan data gambar yang ada di dalam direktori.\n",
    "9. class_names merupakan parameter yang berfungsi untuk mengontrol urutan kategori/kelas secara eksplisit dan harus cocok dengan penamaan yang ada di sub-direktori folder.\n",
    "\n",
    "Referensi:\n",
    "\n",
    "- https://www.tensorflow.org/api_docs/python/tf/keras/utils/image_dataset_from_directory"
   ]
  },
  {
   "cell_type": "code",
   "execution_count": 8,
   "id": "aa3764c2",
   "metadata": {},
   "outputs": [
    {
     "name": "stdout",
     "output_type": "stream",
     "text": [
      "['COVID', 'Lung_Opacity', 'Normal', 'Viral Pneumonia']\n",
      "['COVID', 'Lung_Opacity', 'Normal', 'Viral Pneumonia']\n"
     ]
    }
   ],
   "source": [
    "# Melihat nama-nama dari kelas yang digunakan dalam pengujian kali ini, baik dari training generator dan testing generator\n",
    "class_images_train = training_generator.class_names\n",
    "print(class_images_train)\n",
    "\n",
    "class_images_test = testing_generator.class_names\n",
    "print(class_images_test)"
   ]
  },
  {
   "cell_type": "markdown",
   "id": "66646dad",
   "metadata": {},
   "source": [
    "Berdasarkan hasil output diatas telah diketahui bahwa dalam pengujian kali ini kita akan mengklasifikasikan gambar berdasarkan label kelas/label kategori seperti apakah gambar tersebut teridentifikasi sebagai kategori covid 19/lung opacity/pneumonia/normal. Sesuai dengan permasalahan tersebut, hasil output diatas saya telah berhasil mengidentifikasi data gambar berdasarkan keempat kelas dan juga masing-masing telah dipisahkan dengan identitas variabel yaitu training dan validasi.\n",
    "\n",
    "Variabel training memiliki jumlah data sebanyak 5.000 data gambar yang akan digunakan untuk melatih algoritma dengan data yang tersedia sedangkan variabel validasi menggunakan jumlah data sebanyak 2.142 data gambar yang bertujuan untuk mengujikan algoritma yang telah mempelajari data-data selama proses training dengan menggunakan data baru (dalam hal ini 2.142 data gambar merupakan data baru)."
   ]
  },
  {
   "cell_type": "markdown",
   "metadata": {},
   "source": [
    "# Prediksi"
   ]
  },
  {
   "cell_type": "markdown",
   "id": "16d00cf0",
   "metadata": {},
   "source": [
    "### 4.1. ResNet 152 v1 Algorithm"
   ]
  },
  {
   "cell_type": "code",
   "execution_count": 9,
   "id": "31b434bd",
   "metadata": {
    "scrolled": false
   },
   "outputs": [
    {
     "name": "stdout",
     "output_type": "stream",
     "text": [
      "Model: \"sequential\"\n",
      "_________________________________________________________________\n",
      " Layer (type)                Output Shape              Param #   \n",
      "=================================================================\n",
      " resnet152 (Functional)      (None, 2048)              58370944  \n",
      "                                                                 \n",
      " flatten (Flatten)           (None, 2048)              0         \n",
      "                                                                 \n",
      " batch_normalization (BatchN  (None, 2048)             8192      \n",
      " ormalization)                                                   \n",
      "                                                                 \n",
      " dense (Dense)               (None, 185)               379065    \n",
      "                                                                 \n",
      " dense_1 (Dense)             (None, 150)               27900     \n",
      "                                                                 \n",
      " dropout (Dropout)           (None, 150)               0         \n",
      "                                                                 \n",
      " batch_normalization_1 (Batc  (None, 150)              600       \n",
      " hNormalization)                                                 \n",
      "                                                                 \n",
      " dropout_1 (Dropout)         (None, 150)               0         \n",
      "                                                                 \n",
      " dense_2 (Dense)             (None, 120)               18120     \n",
      "                                                                 \n",
      " dropout_2 (Dropout)         (None, 120)               0         \n",
      "                                                                 \n",
      " dense_3 (Dense)             (None, 73)                8833      \n",
      "                                                                 \n",
      " dense_4 (Dense)             (None, 40)                2960      \n",
      "                                                                 \n",
      " dense_5 (Dense)             (None, 4)                 164       \n",
      "                                                                 \n",
      "=================================================================\n",
      "Total params: 58,816,778\n",
      "Trainable params: 58,660,958\n",
      "Non-trainable params: 155,820\n",
      "_________________________________________________________________\n"
     ]
    }
   ],
   "source": [
    "\"\"\"\n",
    "Membuat jaringan syaraf tiruan (neural networks) dengan menggunakan algoritma ResNet 152 versi 1\n",
    "dari keras serta menampilkan hasil dari proses pembuatan jaringan syaraf tiruan berdasarkan algoritma ResNet 152\n",
    "\"\"\"\n",
    "\n",
    "ResNet_algorithm_152v1 = Sequential()\n",
    "\n",
    "# Memanggil algoritma ResNet 152 versi 1 dengan beberapa hyperparameter dari algoritma ResNet 152 versi 1\n",
    "ResNet152_v1_network = tf.keras.applications.ResNet152(\n",
    "    input_shape=(100, 100, 3),\n",
    "    include_top=False,\n",
    "    pooling=\"avg\",\n",
    "    weights=\"imagenet\",\n",
    "    classes=4,\n",
    "    classifier_activation=\"softmax\",\n",
    ")\n",
    "\n",
    "\"\"\"\n",
    "Hyperparameter yang saya gunakan dalam algoritma ResNet 152 versi 1 yang terdiri dari 6 parameter yang berbeda\n",
    "yaitu input_shape, include_top, pooling, weights, classes, dan classifier_activation.\n",
    "1. input_shape berfungsi untuk dijadikan ukuran dari gambar yang akan dilatih oleh algoritma ResNet 152.\n",
    "2. include_top bertujuan untuk menyertakan layer yang terhubung penuh di bagian atas layer yang dibuat.\n",
    "3. pooling=\"avg\" merupakan ekstraksi fitur/gambar menyatukan nilai rata-rata dan akan diterapkan pada\n",
    "output dari blok konvolusi terakhir sehingga output dari algoritma akan menjadi tensor 2D.\n",
    "4. weights=\"imagenet\" bertujuan untuk menjadikan pre-training di ImageNet.\n",
    "5. classes merupakan jumlah kelas/kategori pada dataset gambar yang bertujuan untuk mengklasifikasikan gambar\n",
    "6. Terakhir adalah parameter classifier_activation yang merupakan fungsi aktivasi untuk digunakan pada top layer\n",
    "dari layer yang digunakan. Parameter ini dapat diisi oleh 2 nilai yaitu None dan softmax\n",
    "\n",
    "Referensi: https://keras.io/api/applications/resnet/#resnet152-function\n",
    "\"\"\"\n",
    "\n",
    "# Layer yang berisikan model ResNet 152 v1 yang didalamnya telah terdapat 6 parameter beserta nilai-nilainya\n",
    "ResNet_algorithm_152v1.add(ResNet152_v1_network)\n",
    "\n",
    "\"\"\"\n",
    "Layer untuk mencegah terjadinya overfitting (BatchNormalization) dan melakukan\n",
    "tahap mengubah matriks di pooling layer menjadi vektor tunggal (Flatten)\n",
    "\"\"\"\n",
    "ResNet_algorithm_152v1.add(Flatten())\n",
    "ResNet_algorithm_152v1.add(keras.layers.BatchNormalization())\n",
    "\n",
    "ResNet_algorithm_152v1.add(keras.layers.Dense(185, activation=\"relu\"))\n",
    "\n",
    "ResNet_algorithm_152v1.add(keras.layers.Dense(150, activation=\"relu\"))\n",
    "ResNet_algorithm_152v1.add(keras.layers.Dropout(0.4))\n",
    "\n",
    "ResNet_algorithm_152v1.add(keras.layers.BatchNormalization())\n",
    "ResNet_algorithm_152v1.add(keras.layers.Dropout(0.3))\n",
    "\n",
    "ResNet_algorithm_152v1.add(keras.layers.Dense(120))\n",
    "ResNet_algorithm_152v1.add(keras.layers.Dropout(0.3))\n",
    "\n",
    "ResNet_algorithm_152v1.add(keras.layers.Dense(73, activation=\"relu\"))\n",
    "\n",
    "ResNet_algorithm_152v1.add(keras.layers.Dense(40, activation=\"relu\"))\n",
    "\n",
    "ResNet_algorithm_152v1.add(keras.layers.Dense(4, activation=\"softmax\"))\n",
    "\n",
    "\"\"\"\n",
    "Menginisialisasikan fungsi optimasi dan learning rate yang akan digunakandi dalam\n",
    "neural networks dan optimasi yang akan digunakan dalam pengujian kali ini adalah Adam\n",
    "\"\"\"\n",
    "optimizer = SGD(learning_rate=0.01)\n",
    " \n",
    "# Menyusun jaringan yang telah dibuat berdasarkan optimizer yang digunakan\n",
    "ResNet_algorithm_152v1.compile(optimizer=optimizer, loss=\"sparse_categorical_crossentropy\", metrics=[\"accuracy\"])\n",
    "\n",
    "# Melihat susunan jaringan syaraf tiruan berdasarkan algoritma ResNet 152 v1\n",
    "ResNet_algorithm_152v1.summary()"
   ]
  },
  {
   "cell_type": "markdown",
   "id": "c26741bf",
   "metadata": {},
   "source": [
    "Dalam menyusun jaringan syaraf tiruan dengan model ResNet (Residual Network) 152 v1, saya menggunakan beberapa layer didalamnya. Layer pertama tentu saja layer dari model ResNet 152 v1 yang dimuat di dalam variabel \"ResNet152_v1_network\". Pada variabel tersebut berisikan 6 parameter dari model ResNet 152 v1 yang saya panggil dari library keras. Setelah menginisialisasi parameter-parameter dari model ResNet 152 v1, selannjutnya saya jadikan variabel tersebut di layer pertama pada eksperimen ini.\n",
    "\n",
    "Selanjutnya saya menambahkan proses flattening dan batch normalization yang kedua proses tersebut memiliki tugasnya masing-masing. Proses flatten berfungsi untuk mengubah nilai-nilai matriks menjadi sebuah vektor tunggal saja. Penggambarannya seperti ini. Sebuah gambar pasti memiliki kumpulan nilai-nilai matriks yang menyusun gambar tersebut bukan? Nah, dengan menggunakan flatten maka kumpulan nilai-nilai yang berada di dalam matriks data gambar tersebut akan dijadikan satu kolom saja atau sebuah vektor tunggal yang nantinya vektor tunggal ini (yang didalamnya telah terdapat kumpulan nilai dari matriks gambar) akan menjadi bagian dari layer input dari model yang akan digunakan (dalam kasus ini akan dijadikan sebagai layer input ResNet 152 v1). Sedangkan tahap batch normalization berfungsi untuk memproses jaringan syaraf yang telah dibuat menjadi lebih stabil dengan menambahkan ekstra layer di jaringan syaraf untuk menghindari terjadinya over-fitting terhadap hasil performa.\n",
    "\n",
    "Referensi dari tahap flatten dan batch normalization:\n",
    "\n",
    "- https://www.megabagus.id/deep-learning-convolutional-neural-networks/6/\n",
    "\n",
    "- https://www.analyticsvidhya.com/blog/2021/03/introduction-to-batch-normalization/\n",
    "\n",
    "Selain batch normalization dan flatten, script diatas terdapat 2 nilai dari activation function. Activation function berfungsi untuk mendefinisikan nilai output dari layer input. Activation function dapat memutuskan untuk mengaktifkan/menonaktifkan neuron yang ada di layer input agar mendapatkan hasil (output) yang diinginkan dengan memperhitungkan jumlah nilai bobot dalam setiap neuron dan menambahkan bias. Jadi activation function tidak hanya dilakukan oleh model lienar tetapi juga dapat dilakukan/dimasukkan nilai yang non-linear ke dalam output pada setiap neuron.\n",
    "Activation function yang saya gunakan pada eksperimen kali ini ada 2 yaitu ReLu dan Softmax. Fungsi aktivasi relu merupakan fungsi aktivasi yang sangat sering digunakan yang memiliki range dari 0 - tak terhingga (infinity values). Bahkan jika terdapat nilai negatif maka ReLu akan mengubah/mentransformasikan semua nilai negatif menjadi nol. Lalu fungsi aktivasi softmax merupakan fungsi aktivasi yang sangat sering digunakan pada lapisan terakhir (output layer) untuk pengambilan keputusan dengan memberikan nilai pada input sesuai dengan bobotnya dan jumlah bobot ini akhirnya menjadi satu.\n",
    "\n",
    "Referensi dari penjelasan activation function, ReLu, dan Softmax:\n",
    "\n",
    "- https://www.analyticssteps.com/blogs/7-types-activation-functions-neural-network\n",
    "\n",
    "- https://www.geeksforgeeks.org/activation-functions-neural-networks/"
   ]
  },
  {
   "cell_type": "code",
   "execution_count": null,
   "id": "a416bda3",
   "metadata": {
    "scrolled": false
   },
   "outputs": [],
   "source": [
    "\"\"\"\n",
    "Mulai melatih algoritma ResNet 152 versi 1 dalam 30 kali proses pengulangan dengan menggunakan\n",
    "generator dari proses training dan memvalidasi/memprediksi menggunakan generator testing\n",
    "\"\"\"\n",
    "history = ResNet_algorithm_152v1.fit(training_generator, validation_data=testing_generator, epochs=30, batch_size=16)"
   ]
  },
  {
   "cell_type": "markdown",
   "id": "b6c08293",
   "metadata": {},
   "source": [
    "Dari hasil epochs diatas dapat diketahui nilai-nilai metrics dari hasil masing-masing epoch yang digunakan yaitu nilai loss, validation loss, accuracy, dan validation accuracy. Nilai loss merupakan nilai dari hasil perhitungan loss function dari data training setelah melakukan proses pelatihan model deep learning (dalam kasus ini pelatihan data dengan model ResNet 152 v1). Nilai loss terendah terjadi pada epoch ke-26 dengan nilai loss 0.0073 yang menjadikan nilai loss tersebut paling rendah diantaranya nilai-nilai loss pada setiap epochs. Selanjutnya nilai validation_loss yang merupakan nilai dari hasil perhitungan validation data (data validasi) atau bisa juga disebut sebagai data testing. Validation loss juga dapat diindikasikan sebagai hasil prediksi menggunakan data terbaru, data yang tidak dilatih oleh model ResNet 152 v1. Nilai validation loss terendah adalah 0.2988 yang terjadi pada epoch ke-13.\n",
    "\n",
    "Lalu accuracy yang merupakan hasil dari perhitungan akurasi terhadap data training setelah model ResNet 152 v1 dilatih dengan data. Nilai accuracy tertinggi yang didapatkan oleh model ResNet 152 v1 adalah 0.9986 yang terjadi pada epoch ke-26. Terakhir adalah validation_accuracy yang merupakan hasi dari perhitungan metrik akurasi terhadap data testing yang dimana data ini merupakan data yang tidak dilatih oleh model deep learning (ResNet 152 v1). Nilai validation_accuracy tertinggi adalah 0.9244 yang terjadi pada epoch ke-27.\n",
    "\n",
    "Referensi:\n",
    "\n",
    "- https://kotakode.com/pertanyaan/828/Penjelasan-loss%2C-accuracy%2C-val_loss%2C-val_accuracy\n",
    "\n",
    "- https://datascience.stackexchange.com/questions/25267/keras-difference-beetween-val-loss-and-loss-during-training"
   ]
  },
  {
   "cell_type": "code",
   "execution_count": null,
   "id": "9d47624c",
   "metadata": {},
   "outputs": [
    {
     "data": {
      "text/plain": [
       "' MODEL_BASE_PATH = \"Model\"\\nPROJECT_NAME = \"Resnet152_v1\"\\nSAVE_MODEL_NAME = \"resnet152_v1.h5\"\\nsave_model_path = os.path.join(MODEL_BASE_PATH, PROJECT_NAME, SAVE_MODEL_NAME)\\n\\nif os.path.exists(os.path.join(MODEL_BASE_PATH, PROJECT_NAME)) == False:\\n    os.makedirs(os.path.join(MODEL_BASE_PATH, PROJECT_NAME))\\n    \\nprint(\\'Saving Model At {}...\\'.format(save_model_path))\\nResNet_algorithm_152v1.save(save_model_path,include_optimizer=False) '"
      ]
     },
     "metadata": {},
     "output_type": "display_data"
    }
   ],
   "source": [
    "\"\"\" MODEL_BASE_PATH = \"Model\"\n",
    "PROJECT_NAME = \"Resnet152_v1\"\n",
    "SAVE_MODEL_NAME = \"resnet152_v1.h5\"\n",
    "save_model_path = os.path.join(MODEL_BASE_PATH, PROJECT_NAME, SAVE_MODEL_NAME)\n",
    "\n",
    "if os.path.exists(os.path.join(MODEL_BASE_PATH, PROJECT_NAME)) == False:\n",
    "    os.makedirs(os.path.join(MODEL_BASE_PATH, PROJECT_NAME))\n",
    "    \n",
    "print('Saving Model At {}...'.format(save_model_path))\n",
    "ResNet_algorithm_152v1.save(save_model_path,include_optimizer=False) \"\"\""
   ]
  },
  {
   "cell_type": "markdown",
   "metadata": {},
   "source": [
    "## Load Exported Model"
   ]
  },
  {
   "cell_type": "code",
   "execution_count": 13,
   "metadata": {},
   "outputs": [
    {
     "name": "stdout",
     "output_type": "stream",
     "text": [
      "WARNING:tensorflow:No training configuration found in the save file, so the model was *not* compiled. Compile it manually.\n"
     ]
    }
   ],
   "source": [
    "MODEL_PATH = \"Model/Resnet152_v1/resnet152_v1.h5\"\n",
    "modelv1 = tf.keras.models.load_model(MODEL_PATH, compile=False)"
   ]
  },
  {
   "cell_type": "code",
   "execution_count": 14,
   "metadata": {},
   "outputs": [],
   "source": [
    "optimizer = SGD(learning_rate=0.01)\n",
    " \n",
    "# Menyusun jaringan yang telah dibuat berdasarkan optimizer yang digunakan\n",
    "modelv1.compile(optimizer=optimizer, loss=\"sparse_categorical_crossentropy\", metrics=[\"accuracy\"])"
   ]
  },
  {
   "cell_type": "code",
   "execution_count": null,
   "metadata": {},
   "outputs": [],
   "source": [
    "loaded_accuracy = modelv1.evaluate(testing_generator)"
   ]
  },
  {
   "cell_type": "code",
   "execution_count": 50,
   "metadata": {},
   "outputs": [
    {
     "name": "stdout",
     "output_type": "stream",
     "text": [
      "90/90 [==============================] - 6s 69ms/step\n"
     ]
    }
   ],
   "source": [
    "pred_probs12 = modelv1.predict(testing_generator, verbose=1)"
   ]
  },
  {
   "cell_type": "markdown",
   "metadata": {},
   "source": [
    "### CM1"
   ]
  },
  {
   "cell_type": "code",
   "execution_count": 22,
   "metadata": {},
   "outputs": [],
   "source": [
    "true_categories = tf.concat([y for x, y in testing_generator], axis=0)"
   ]
  },
  {
   "cell_type": "code",
   "execution_count": 23,
   "metadata": {},
   "outputs": [],
   "source": [
    "predicted_id = np.argmax(pred_probs, axis = 1)"
   ]
  },
  {
   "cell_type": "code",
   "execution_count": 33,
   "metadata": {},
   "outputs": [],
   "source": [
    "true_categories_rd = np.argmax(true_categories, axis = 1)"
   ]
  },
  {
   "cell_type": "code",
   "execution_count": 44,
   "metadata": {},
   "outputs": [
    {
     "data": {
      "image/png": "[encoded data removed]",
      "text/plain": [
       "<Figure size 576x576 with 1 Axes>"
      ]
     },
     "metadata": {},
     "output_type": "display_data"
    }
   ],
   "source": [
    "import matplotlib.pyplot as plt\n",
    "import seaborn as sns\n",
    "from sklearn.metrics import confusion_matrix, classification_report\n",
    "\n",
    "cm = confusion_matrix(true_categories_rd, predicted_id)\n",
    "cm\n",
    "fig = plt.figure(figsize = (8,8))\n",
    "ax1 = fig.add_subplot(1,1,1)\n",
    "sns.set(font_scale=1.4) #for label size\n",
    "sns.heatmap(cm, annot=True, annot_kws={\"size\": 12},\n",
    "     cbar = False, cmap='Purples');\n",
    "ax1.set_ylabel('True Values',fontsize=14)\n",
    "ax1.set_xlabel('Predicted Values',fontsize=14)\n",
    "plt.show()"
   ]
  },
  {
   "cell_type": "code",
   "execution_count": 51,
   "metadata": {},
   "outputs": [
    {
     "data": {
      "text/plain": [
       "array([[ 99, 108, 105,  60],\n",
       "       [125, 107,  99,  80],\n",
       "       [ 99, 116,  95,  75],\n",
       "       [ 68,  77,  65,  50]])"
      ]
     },
     "execution_count": 51,
     "metadata": {},
     "output_type": "execute_result"
    }
   ],
   "source": [
    "cm"
   ]
  },
  {
   "cell_type": "code",
   "execution_count": 45,
   "metadata": {},
   "outputs": [
    {
     "name": "stdout",
     "output_type": "stream",
     "text": [
      "              precision    recall  f1-score   support\n",
      "\n",
      "           0       0.25      0.27      0.26       372\n",
      "           1       0.26      0.26      0.26       411\n",
      "           2       0.26      0.25      0.25       385\n",
      "           3       0.19      0.19      0.19       260\n",
      "\n",
      "    accuracy                           0.25      1428\n",
      "   macro avg       0.24      0.24      0.24      1428\n",
      "weighted avg       0.25      0.25      0.25      1428\n",
      "\n"
     ]
    }
   ],
   "source": [
    "from sklearn.metrics import classification_report\n",
    "print(classification_report(true_categories_rd, predicted_id))"
   ]
  }
 ],
 "metadata": {
  "kernelspec": {
   "display_name": "Python 3.9.12 ('gpu2')",
   "language": "python",
   "name": "python3"
  },
  "language_info": {
   "codemirror_mode": {
    "name": "ipython",
    "version": 3
   },
   "file_extension": ".py",
   "mimetype": "text/x-python",
   "name": "python",
   "nbconvert_exporter": "python",
   "pygments_lexer": "ipython3",
   "version": "3.9.12"
  },
  "orig_nbformat": 4,
  "vscode": {
   "interpreter": {
    "hash": "e58a95c7c2141e2ce32ac478d889c0ff8cc0513ca7e9064727e196d97e8bb3de"
   }
  }
 },
 "nbformat": 4,
 "nbformat_minor": 2
}
